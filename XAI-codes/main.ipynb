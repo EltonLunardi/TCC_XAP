{
 "cells": [
  {
   "cell_type": "code",
   "execution_count": null,
   "metadata": {},
   "outputs": [],
   "source": [
    "%pip install -r requirements.txt"
   ]
  },
  {
   "cell_type": "code",
   "execution_count": 10,
   "metadata": {},
   "outputs": [],
   "source": [
    "import pandas as pd\n",
    "import xgboost as xgb\n",
    "import shap\n",
    "from sklearn.preprocessing import LabelEncoder\n",
    "from sklearn.model_selection import train_test_split\n",
    "from sklearn.metrics import f1_score"
   ]
  },
  {
   "cell_type": "code",
   "execution_count": null,
   "metadata": {},
   "outputs": [],
   "source": [
    "# Carregar os dados do CSV\n",
    "df = pd.read_csv(\n",
    "    \"../Preprocess/arquivo_completo.csv\",\n",
    "    sep=\",\",\n",
    "    low_memory=False,\n",
    ")\n",
    "\n",
    "# Mapear a coluna 'class' para 0 e 1\n",
    "df[\"class\"] = df[\"class\"].map({\"normal\": 0, \"attack\": 1})\n",
    "\n",
    "# Aplicar Label Encoding para colunas categóricas (tipo object)\n",
    "label_encoders = {}\n",
    "for column in df.columns:\n",
    "    if df[column].dtype == \"object\":\n",
    "        le = LabelEncoder()\n",
    "        df[column] = le.fit_transform(df[column].astype(str))\n",
    "        label_encoders[column] = le\n",
    "\n",
    "# Separar as variáveis independentes e a variável dependente\n",
    "X = df.drop(\"class\", axis=1)\n",
    "y = df[\"class\"]\n",
    "\n",
    "# Dividir o dataset em conjuntos de treino e teste\n",
    "X_train, X_test, y_train, y_test = train_test_split(\n",
    "    X, y, test_size=0.3, random_state=42\n",
    ")\n",
    "\n",
    "model = xgb.XGBClassifier()\n",
    "model.fit(X_train, y_train)\n",
    "\n",
    "# Explicabilidade do modelo com SHAP\n",
    "explainer = shap.Explainer(model)\n",
    "shap_values = explainer(X_train)\n",
    "\n",
    "y_pred = model.predict(X_test)\n",
    "\n",
    "# Plotagem do gráfico SHAP\n",
    "shap.summary_plot(shap_values, X_train)\n",
    "\n",
    "# Calculando o F1 Score\n",
    "f1 = f1_score(y_test, y_pred, average=\"weighted\")\n",
    "\n",
    "print(f\"O F1 Score do modelo é: {f1}\")"
   ]
  },
  {
   "cell_type": "code",
   "execution_count": 5,
   "metadata": {},
   "outputs": [],
   "source": [
    "# train_df = pd.read_csv(\"arquivo_completo.csv\", sep=\",\")"
   ]
  },
  {
   "cell_type": "code",
   "execution_count": 6,
   "metadata": {},
   "outputs": [
    {
     "name": "stdout",
     "output_type": "stream",
     "text": [
      "O nome da última coluna é: class\n"
     ]
    }
   ],
   "source": [
    "# # Obter o nome da última coluna\n",
    "# ultima_coluna = train_df.columns[-1]\n",
    "# print(\"O nome da última coluna é:\", ultima_coluna)"
   ]
  },
  {
   "cell_type": "code",
   "execution_count": null,
   "metadata": {},
   "outputs": [],
   "source": [
    "# if 'class' not in train_df.columns:\n",
    "#     print(\"A coluna 'class' não está presente no dataframe.\")\n",
    "# else:\n",
    "#     print(\"A coluna 'class' está presente no dataframe.\")\n",
    "\n",
    "# print(\"Colunas presentes no dataframe:\", train_df.columns)"
   ]
  },
  {
   "cell_type": "code",
   "execution_count": null,
   "metadata": {},
   "outputs": [],
   "source": [
    "# train_df['class'].dtype"
   ]
  }
 ],
 "metadata": {
  "kernelspec": {
   "display_name": "Python 3",
   "language": "python",
   "name": "python3"
  },
  "language_info": {
   "codemirror_mode": {
    "name": "ipython",
    "version": 3
   },
   "file_extension": ".py",
   "mimetype": "text/x-python",
   "name": "python",
   "nbconvert_exporter": "python",
   "pygments_lexer": "ipython3",
   "version": "3.12.1"
  }
 },
 "nbformat": 4,
 "nbformat_minor": 2
}
